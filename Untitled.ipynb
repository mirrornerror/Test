{
 "cells": [
  {
   "cell_type": "code",
   "execution_count": 1,
   "metadata": {},
   "outputs": [
    {
     "data": {
      "text/plain": [
       "'module://ipykernel.pylab.backend_inline'"
      ]
     },
     "execution_count": 1,
     "metadata": {},
     "output_type": "execute_result"
    }
   ],
   "source": [
    "import numpy as np\n",
    "import matplotlib.pyplot as plt\n",
    "from scipy.stats import multivariate_normal as mvn\n",
    "import matplotlib\n",
    "matplotlib.get_backend()"
   ]
  },
  {
   "cell_type": "code",
   "execution_count": 81,
   "metadata": {},
   "outputs": [
    {
     "name": "stdout",
     "output_type": "stream",
     "text": [
      "mean: [-1.23344626]\n",
      "log_var: [-1.23344626]\n"
     ]
    }
   ],
   "source": [
    "def softplus(x):\n",
    "    # log1p(x) == log(1 + x)\n",
    "    return np.log1p(np.exp(x))\n",
    "\n",
    "\n",
    "# we're going to make a neural network\n",
    "# with the layer sizes (4, 3, 2)\n",
    "# like a toy version of a encoder\n",
    "\n",
    "W1 = np.random.randn(4, 3)\n",
    "W2 = np.random.randn(3, 1)\n",
    "\n",
    "# why 2 * 2?\n",
    "# we need 2 components for the mean,\n",
    "# and 2 components for the standard deviation!\n",
    "\n",
    "# ignore bias terms for simplicity.\n",
    "\n",
    "def forward(x, W1, W2):\n",
    "    hidden = np.tanh(x.dot(W1))\n",
    "    output = hidden.dot(W2) # no activation!\n",
    "    mean = output\n",
    "    stddev = output\n",
    "    return mean, stddev\n",
    "\n",
    "\n",
    "# make a random input\n",
    "x = np.random.randn(4)\n",
    "\n",
    "# get the parameters of the Gaussian\n",
    "mean, log_sigma = forward(x, W1, W2)\n",
    "print(\"mean:\", mean)\n",
    "print(\"log_var:\", log_sigma)"
   ]
  },
  {
   "cell_type": "code",
   "execution_count": 87,
   "metadata": {},
   "outputs": [
    {
     "data": {
      "text/plain": [
       "[<matplotlib.lines.Line2D at 0x7efc22dd6400>]"
      ]
     },
     "execution_count": 87,
     "metadata": {},
     "output_type": "execute_result"
    },
    {
     "data": {
      "image/png": "[encoded data removed]",
      "text/plain": [
       "<matplotlib.figure.Figure at 0x7efc212c2978>"
      ]
     },
     "metadata": {},
     "output_type": "display_data"
    }
   ],
   "source": [
    "x0 = np.random.normal(mean, sigma**2, 1000)\n",
    "#x = np.random.normal(mean, log_sigma, 1000)\n",
    "sigma = np.exp(log_sigma)\n",
    "x1 = np.random.normal(mean, sigma, 1000)\n",
    "\n",
    "f = lambda x: (np.exp(-x**2/2)) / np.sqrt(2*np.pi)\n",
    "\n",
    "plt.plot(x0,f(x0), 'yo', alpha=0.1)\n",
    "#plt.plot(x,f(x), 'r.', alpha=0.1)\n",
    "plt.plot(x1,f(x1)+0.1, 'b.', alpha=0.1)"
   ]
  },
  {
   "cell_type": "code",
   "execution_count": null,
   "metadata": {},
   "outputs": [],
   "source": [
    "# draw samples\n",
    "#d = mvn.rvs(mean=[0,0], cov=[1,1], size=10000)\n",
    "#samples1 = mvn.rvs(mean=mean, cov=np.exp(stddev), size=10000)\n",
    "#samples = np.random.normal(loc=mean,scale=stddev, size=1000)\n",
    "print(d.shape)\n",
    "# plot the samples\n",
    "plt.scatter(d[:,0], d[:,1],alpha=0.2)\n",
    "#plt.plot(samples[:,0], samples[:,1],'r.',alpha=0.1)\n",
    "#plt.plot(x, y,'g.',alpha=0.1)\n",
    "\n",
    "plt.show()"
   ]
  },
  {
   "cell_type": "code",
   "execution_count": null,
   "metadata": {},
   "outputs": [],
   "source": []
  }
 ],
 "metadata": {
  "kernelspec": {
   "display_name": "py36",
   "language": "python",
   "name": "py36"
  },
  "language_info": {
   "codemirror_mode": {
    "name": "ipython",
    "version": 3
   },
   "file_extension": ".py",
   "mimetype": "text/x-python",
   "name": "python",
   "nbconvert_exporter": "python",
   "pygments_lexer": "ipython3",
   "version": "3.6.7"
  }
 },
 "nbformat": 4,
 "nbformat_minor": 2
}
